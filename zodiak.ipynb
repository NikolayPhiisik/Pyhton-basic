{
 "cells": [
  {
   "cell_type": "code",
   "execution_count": 6,
   "metadata": {
    "scrolled": true
   },
   "outputs": [
    {
     "name": "stdout",
     "output_type": "stream",
     "text": [
      "Введите день 29\n",
      "Введите месяц 10\n",
      "ваш знак зодиака: Скорпион\n"
     ]
    }
   ],
   "source": [
    "date = int(input('Введите день '))\n",
    "month = int(input('Введите месяц '))\n",
    "if (date >= 23 and date <= 31 and month == 8) or (date >= 1 and date <= 22 and month == 9):\n",
    "    print ('ваш знак зодиака: Дева')\n",
    "elif (date >= 23 and date <= 31 and month == 9) or (date >= 1 and date <= 22 and month == 10):\n",
    "    print('ваш знак зодиака: Весы')\n",
    "elif (date >= 23 and date <= 31 and month == 10) or (date >= 1 and date <= 22 and month == 11):\n",
    "    print('ваш знак зодиака: Скорпион')\n",
    "elif (date >= 23 and date <= 31 and month == 11) or (date >= 1 and date <= 22 and month == 12):\n",
    "    print('ваш знак зодиака: Стрелец')\n",
    "elif (date >= 23 and date <= 31 and month == 12) or (date >= 1 and date <= 22 and month == 1):\n",
    "    print('ваш знак зодиака: Козерог')\n",
    "elif (date >= 23 and date <= 31 and month == 1) or (date >= 1 and date <= 22 and month == 2):\n",
    "    print('ваш знак зодиака: Водолей')\n",
    "elif (date >= 23 and date <= 31 and month == 2) or (date >= 1 and date <= 22 and month == 3):\n",
    "    print('ваш знак зодиака: Рыбы')\n",
    "elif (date >= 23 and date <= 31 and month == 3) or (date >= 1 and date <= 22 and month == 4):\n",
    "    print('ваш знак зодиака: Овен')\n",
    "elif (date >= 23 and date <= 31 and month == 4) or (date >= 1 and date <= 22 and month == 5):\n",
    "    print('ваш знак зодиака: Телец')\n",
    "elif (date >= 23 and date <= 31 and month == 5) or (date >= 1 and date <= 22 and month == 6):\n",
    "    print('ваш знак зодиака: Близнецы')\n",
    "elif (date >= 23 and date <= 31 and month == 6) or (date >= 1 and date <= 22 and month == 7):\n",
    "    print('ваш знак зодиака: Рак')\n",
    "elif (date >= 23 and date <= 31 and month == 7) or (date >= 1 and date <= 22 and month == 8):\n",
    "    print('ваш знак зодиака: Лев')"
   ]
  }
 ],
 "metadata": {
  "kernelspec": {
   "display_name": "Python 3",
   "language": "python",
   "name": "python3"
  },
  "language_info": {
   "codemirror_mode": {
    "name": "ipython",
    "version": 3
   },
   "file_extension": ".py",
   "mimetype": "text/x-python",
   "name": "python",
   "nbconvert_exporter": "python",
   "pygments_lexer": "ipython3",
   "version": "3.8.3"
  }
 },
 "nbformat": 4,
 "nbformat_minor": 4
}
