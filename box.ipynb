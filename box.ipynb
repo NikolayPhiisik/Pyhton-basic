{
 "cells": [
  {
   "cell_type": "code",
   "execution_count": 51,
   "metadata": {},
   "outputs": [
    {
     "name": "stdout",
     "output_type": "stream",
     "text": [
      "Введите ширину65456\n",
      "Введите длину1\n",
      "Введите высоту45\n",
      "Коробка №2\n"
     ]
    }
   ],
   "source": [
    "width = int(input('Введите ширину'))\n",
    "lenght = int(input('Введите длину'))\n",
    "height = int(input('Введите высоту'))\n",
    "if width < 15 and lenght < 15 and height < 15:\n",
    "    print ('Коробка №1')\n",
    "elif (width > 15 and width < 50) or (lenght > 15 and lenght < 50) or (height > 15 and height < 50):\n",
    "    print('Коробка №2')\n",
    "elif lenght > 200:\n",
    "    print('Упаковка для лыж')\n",
    "else:\n",
    "    print('Стандартная упаковка №3')\n",
    "    print('Конец программы')\n",
    "    \n"
   ]
  }
 ],
 "metadata": {
  "kernelspec": {
   "display_name": "Python 3",
   "language": "python",
   "name": "python3"
  },
  "language_info": {
   "codemirror_mode": {
    "name": "ipython",
    "version": 3
   },
   "file_extension": ".py",
   "mimetype": "text/x-python",
   "name": "python",
   "nbconvert_exporter": "python",
   "pygments_lexer": "ipython3",
   "version": "3.8.3"
  }
 },
 "nbformat": 4,
 "nbformat_minor": 4
}
